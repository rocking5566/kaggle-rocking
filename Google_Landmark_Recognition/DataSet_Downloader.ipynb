{
 "cells": [
  {
   "cell_type": "markdown",
   "metadata": {},
   "source": [
    "# Google Landmark Recognition Challenge\n",
    "[Google Landmark Recognition Challenge](https://www.kaggle.com/c/landmark-recognition-challenge/data)\n",
    "\n",
    "In this code, refine Dataset folder to\n",
    "```\n",
    "data/\n",
    "    train_images/\n",
    "        1/\n",
    "            10.jpg\n",
    "            753.jpg\n",
    "        2/\n",
    "            78.jpg\n",
    "            99.jpg\n",
    "        3/\n",
    "            657.jpg\n",
    "            500.jpg\n",
    "        ...\n",
    "        \n",
    "    test/\n",
    "        0.jpg\n",
    "        1.jpg\n",
    "        2.jpg\n",
    "        3.jpg\n",
    "```"
   ]
  },
  {
   "cell_type": "code",
   "execution_count": null,
   "metadata": {},
   "outputs": [],
   "source": [
    "%mkdir /datasets/Google_Landmark_Recognition\n",
    "%mkdir /datasets/Google_Landmark_Recognition/train_images\n",
    "%mkdir /datasets/Google_Landmark_Recognition/test_images"
   ]
  },
  {
   "cell_type": "code",
   "execution_count": null,
   "metadata": {},
   "outputs": [],
   "source": [
    "def fetch_image(root_path, url):\n",
    "    response=requests.get(url, stream=True)\n",
    "    file_path = os.path.join(root_path, 'image.jpg')\n",
    "    with open(file_path, 'wb') as out_file:\n",
    "        shutil.copyfileobj(response.raw, out_file)\n",
    "    del response\n",
    "    return file_path"
   ]
  },
  {
   "cell_type": "code",
   "execution_count": null,
   "metadata": {},
   "outputs": [],
   "source": [
    "def fetch_train_images(root_path, links, landmarks):\n",
    "    i=0\n",
    "    for link in links:              #looping over links to get images\n",
    "        dir_name = os.path.join(root_path, str(landmarks[i]))\n",
    "        if not os.path.exists(dir_name):\n",
    "            os.makedirs(dir_name)\n",
    "    \n",
    "        if os.path.exists(dir_name + '/' + str(i) + '.jpg'):\n",
    "            i+=1\n",
    "            continue\n",
    "            \n",
    "        file_path = fetch_image(dir_name, link)\n",
    "        os.rename(file_path, os.path.join(dir_name, str(i) + '.jpg'))\n",
    "        i+=1\n",
    "        \n",
    "        if(i % 500 == 0): \n",
    "            print (i, \"/\", links.shape[0])\n",
    "            \n",
    "        # if(i==5):   #uncomment to test in your machine\n",
    "        #    break"
   ]
  },
  {
   "cell_type": "code",
   "execution_count": null,
   "metadata": {},
   "outputs": [],
   "source": [
    "def fetch_test_images(root_path, links):\n",
    "    i=0\n",
    "    for link in links:              #looping over links to get images\n",
    "        if os.path.exists(root_path + '/' + str(i) + '.jpg'):\n",
    "            i+=1\n",
    "            continue\n",
    "            \n",
    "        file_path = fetch_image(root_path, link)\n",
    "        os.rename(file_path, os.path.join(root_path, str(i) + '.jpg'))\n",
    "        i+=1\n",
    "        \n",
    "        if(i % 500 == 0): \n",
    "            print (i, \"/\", links.shape[0])\n",
    "            \n",
    "        # if(i==5):   #uncomment to test in your machine\n",
    "        #    break"
   ]
  },
  {
   "cell_type": "code",
   "execution_count": null,
   "metadata": {},
   "outputs": [],
   "source": [
    "import numpy as np \n",
    "import pandas as pd \n",
    "import sys, requests, shutil, os\n",
    "from urllib import request, error"
   ]
  },
  {
   "cell_type": "code",
   "execution_count": null,
   "metadata": {},
   "outputs": [],
   "source": [
    "root_path = '/datasets/Google_Landmark_Recognition/train_images'\n",
    "data=pd.read_csv('/datasets/Google_Landmark_Recognition/train.csv')\n",
    "data.head(5)\n",
    "links=data['url']\n",
    "landmarks=data['landmark_id']\n",
    "fetch_train_images(root_path, links, landmarks)"
   ]
  },
  {
   "cell_type": "code",
   "execution_count": null,
   "metadata": {},
   "outputs": [],
   "source": [
    "root_path = '/datasets/Google_Landmark_Recognition/test_images'\n",
    "data=pd.read_csv('/datasets/Google_Landmark_Recognition/test.csv')\n",
    "data.head(5)\n",
    "links=data['url']\n",
    "fetch_test_images(root_path, links)"
   ]
  }
 ],
 "metadata": {
  "kernelspec": {
   "display_name": "Python 3",
   "language": "python",
   "name": "python3"
  },
  "language_info": {
   "codemirror_mode": {
    "name": "ipython",
    "version": 3
   },
   "file_extension": ".py",
   "mimetype": "text/x-python",
   "name": "python",
   "nbconvert_exporter": "python",
   "pygments_lexer": "ipython3",
   "version": "3.5.4"
  }
 },
 "nbformat": 4,
 "nbformat_minor": 2
}
