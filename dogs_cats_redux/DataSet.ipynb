{
 "cells": [
  {
   "cell_type": "markdown",
   "metadata": {},
   "source": [
    "# Dogs vs Cat Redux\n",
    "[Dogs vs. Cats Redux: Kernels Edition](https://www.kaggle.com/c/dogs-vs-cats-redux-kernels-edition)\n",
    "\n",
    "Original Dataset folder\n",
    "```\n",
    "data/\n",
    "    train/\n",
    "        cat.437.jpg\n",
    "        dog.9924.jpg\n",
    "        cat.1029.jpg\n",
    "        dog.4374.jpg\n",
    "    test/\n",
    "        231.jpg\n",
    "        325.jpg\n",
    "        1235.jpg\n",
    "        9923.jpg\n",
    "```\n",
    "\n",
    "In this code, refine to\n",
    "```\n",
    "data/\n",
    "    train/\n",
    "        dogs/\n",
    "            dog.9924.jpg\n",
    "            dog.4374.jpg\n",
    "        cats/\n",
    "            cat.437.jpg\n",
    "            cat.1029.jpg\n",
    "    valid\n",
    "        dogs/\n",
    "            dog.5924.jpg\n",
    "            dog.6374.jpg\n",
    "        cats/\n",
    "            cat.4737.jpg\n",
    "            cat.729.jpg\n",
    "    test/\n",
    "        231.jpg\n",
    "        325.jpg\n",
    "        1235.jpg\n",
    "        9923.jpg\n",
    "```"
   ]
  },
  {
   "cell_type": "code",
   "execution_count": null,
   "metadata": {},
   "outputs": [],
   "source": [
    "import os\n",
    "import sys\n",
    "from glob import glob\n",
    "import numpy as np"
   ]
  },
  {
   "cell_type": "code",
   "execution_count": null,
   "metadata": {},
   "outputs": [],
   "source": [
    "DATA_HOME_DIR = '/src/dataset/kaggle/dog_cat_redux'\n",
    "validation_size = 2000\n",
    "%mkdir $DATA_HOME_DIR/valid\n",
    "%cd $DATA_HOME_DIR/train"
   ]
  },
  {
   "cell_type": "code",
   "execution_count": null,
   "metadata": {},
   "outputs": [],
   "source": [
    "g = glob('*.jpg')\n",
    "shuf = np.random.permutation(g)\n",
    "for i in range(validation_size): os.rename(shuf[i], DATA_HOME_DIR + '/valid/' + shuf[i])"
   ]
  },
  {
   "cell_type": "code",
   "execution_count": null,
   "metadata": {},
   "outputs": [],
   "source": [
    "%mkdir cats\n",
    "%mkdir dogs\n",
    "%mv cat.*.jpg cats/\n",
    "%mv dog.*.jpg dogs/"
   ]
  },
  {
   "cell_type": "code",
   "execution_count": null,
   "metadata": {},
   "outputs": [],
   "source": [
    "%cd $DATA_HOME_DIR/valid\n",
    "%mkdir cats\n",
    "%mkdir dogs\n",
    "%mv cat.*.jpg cats/\n",
    "%mv dog.*.jpg dogs/"
   ]
  }
 ],
 "metadata": {
  "kernelspec": {
   "display_name": "Python 3",
   "language": "python",
   "name": "python3"
  },
  "language_info": {
   "codemirror_mode": {
    "name": "ipython",
    "version": 3
   },
   "file_extension": ".py",
   "mimetype": "text/x-python",
   "name": "python",
   "nbconvert_exporter": "python",
   "pygments_lexer": "ipython3",
   "version": "3.5.4"
  }
 },
 "nbformat": 4,
 "nbformat_minor": 2
}
